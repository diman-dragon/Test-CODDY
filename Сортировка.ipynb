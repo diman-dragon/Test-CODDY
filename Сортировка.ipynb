{
 "cells": [
  {
   "cell_type": "markdown",
   "metadata": {},
   "source": [
    "Вам даны два отсортированных списка (по возрастанию) длина которых a и b.\n",
    "\n",
    "Задача: создать функцию, которая будет на выходе иметь один общий отсортированный список res (по убыванию). Пользоваться sort или иными функциями для сортировки ЗАПРЕЩЕНО!"
   ]
  },
  {
   "cell_type": "code",
   "execution_count": 1,
   "metadata": {},
   "outputs": [
    {
     "name": "stdout",
     "output_type": "stream",
     "text": [
      "Список, отсортированный по убыванию: [6, 5, 4, 4, 3, 3, 3, 2, 1]\n"
     ]
    }
   ],
   "source": [
    "# Для решения этой задачи можно использовать несколько методов\n",
    "\n",
    "# Первый заключается в том, что мы сначала объединим списки в один,\n",
    "# а после отсортируем список\n",
    "\n",
    "# В задании не сказано, что делать с дубликатами значений, если они будут, \n",
    "# поэтому оставим только уникальные значения\n",
    "\n",
    "# Функция сортировки списка по убыванию (сортировка вставками)\n",
    "\n",
    "def descending_sort(list1, list2):\n",
    "    combined_list = list(set(list1 + list2)) # Объединение списков с удалением дубликатов\n",
    "\n",
    "    # combined_list = list1 + list2 # Если мы хотим оставить дубликаты, просто сложим списки оператором сложения\n",
    "\n",
    "    # Итерируем по списку, начиная со второго элемента, и сравнивает каждый элемент с элементами слева от него, \n",
    "    # перемещая элементы вправо до тех пор, пока не найдет свою позицию. \n",
    "    # Это будет работать для списка любого размера и будет отсортировывать его в порядке убывания.\n",
    "\n",
    "    for i in range(1, len(combined_list)):\n",
    "        key = combined_list[i]\n",
    "        j = i - 1\n",
    "        while j >= 0 and key > combined_list[j]:\n",
    "            combined_list[j + 1] = combined_list[j]\n",
    "            j -= 1\n",
    "        combined_list[j + 1] = key\n",
    "\n",
    "    return combined_list\n",
    "\n",
    "# Пример списков с дубликатами\n",
    "list1 = [1, 2, 3, 3, 4]\n",
    "list2 = [3, 4, 5, 6]\n",
    "\n",
    "# Сортировка списка по убыванию\n",
    "sorted_list = descending_sort(list1, list2)\n",
    "\n",
    "print(\"Список, отсортированный по убыванию:\", sorted_list)"
   ]
  },
  {
   "cell_type": "markdown",
   "metadata": {},
   "source": [
    "Данный метод нечувствителен к длине списков, значениям списков и т.д.\n",
    "Возможны иные варианты"
   ]
  }
 ],
 "metadata": {
  "kernelspec": {
   "display_name": "Python 3",
   "language": "python",
   "name": "python3"
  },
  "language_info": {
   "codemirror_mode": {
    "name": "ipython",
    "version": 3
   },
   "file_extension": ".py",
   "mimetype": "text/x-python",
   "name": "python",
   "nbconvert_exporter": "python",
   "pygments_lexer": "ipython3",
   "version": "3.12.3"
  }
 },
 "nbformat": 4,
 "nbformat_minor": 2
}
